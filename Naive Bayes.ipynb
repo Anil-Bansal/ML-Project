{
 "cells": [
  {
   "cell_type": "code",
   "execution_count": 1,
   "metadata": {},
   "outputs": [],
   "source": [
    "import numpy as np"
   ]
  },
  {
   "cell_type": "code",
   "execution_count": 2,
   "metadata": {},
   "outputs": [],
   "source": [
    "#Dictionary to easily access different count value required for Probability\n",
    "def fit(x_train,y_train):\n",
    "    result={};\n",
    "    classes=set(y_train)\n",
    "    result[\"total_data\"]=len(y_train)\n",
    "    for cur_class in classes:\n",
    "        result[cur_class]={};\n",
    "        x_train_rows=x_train[(y_train==cur_class)]\n",
    "        y_train_rows=y_train[(y_train==cur_class)]\n",
    "        result[cur_class][\"total_count\"]=len(y_train_rows)\n",
    "        num_features=x_train.shape[1]\n",
    "        for j in range(1,num_features+1):\n",
    "            result[cur_class][j]={}\n",
    "            possible_values=set(x_train[:,j-1])\n",
    "            for cur_val in possible_values:\n",
    "                result[cur_class][j][cur_val]=(x_train_rows[:,j-1]==cur_val).sum()\n",
    "                \n",
    "    return result"
   ]
  },
  {
   "cell_type": "code",
   "execution_count": 3,
   "metadata": {},
   "outputs": [],
   "source": [
    "def probability(result,x,cur_class):\n",
    "    output=np.log(result[cur_class][\"total_count\"])-np.log(result[\"total_data\"])\n",
    "    num_features=len(result[cur_class].keys())-1\n",
    "    for j in range(1,num_features+1):\n",
    "        feature=x[j-1]\n",
    "        #+1 for laplace correction\n",
    "        count=result[cur_class][j][feature]+1\n",
    "        total_count=result[cur_class][\"total_count\"]+len(result[cur_class][j].keys())\n",
    "        particular_feature_prob=np.log(count)-np.log(total_count)\n",
    "        output=output+particular_feature_prob\n",
    "    return output"
   ]
  },
  {
   "cell_type": "code",
   "execution_count": 4,
   "metadata": {},
   "outputs": [],
   "source": [
    "def predictsingle(result,x):\n",
    "    classes=result.keys()\n",
    "    best_p=-1000\n",
    "    best_class=-1\n",
    "    for cur_class in classes:\n",
    "        if(cur_class==\"total_data\"):\n",
    "            continue\n",
    "        val=probability(result,x,cur_class)\n",
    "        if(val>best_p):\n",
    "            best_p=val\n",
    "            best_class=cur_class\n",
    "        \n",
    "    return best_class"
   ]
  },
  {
   "cell_type": "code",
   "execution_count": 5,
   "metadata": {},
   "outputs": [],
   "source": [
    "def predict(result,x_test):\n",
    "    y_pred=[]\n",
    "    for x in x_test:\n",
    "        y_pred.append(predictsingle(result,x))\n",
    "    return y_pred"
   ]
  },
  {
   "cell_type": "code",
   "execution_count": 6,
   "metadata": {},
   "outputs": [],
   "source": [
    "from sklearn import datasets\n",
    "iris=datasets.load_iris()\n",
    "x=iris.data\n",
    "y=iris.target"
   ]
  },
  {
   "cell_type": "code",
   "execution_count": 7,
   "metadata": {},
   "outputs": [],
   "source": [
    "def make_labelled(x):\n",
    "    m=x.mean()\n",
    "    second_limit=m\n",
    "    first_limit=0.5*m\n",
    "    third_limit=1.5*m\n",
    "    for i in range(len(x)):\n",
    "        if(x[i]<first_limit):\n",
    "            x[i]=0\n",
    "        elif(x[i]<second_limit):\n",
    "            x[i]=1\n",
    "        elif(x[i]<third_limit):\n",
    "            x[i]=2\n",
    "        else:\n",
    "            x[i]=3\n",
    "    return x"
   ]
  },
  {
   "cell_type": "code",
   "execution_count": 8,
   "metadata": {},
   "outputs": [],
   "source": [
    "#convert continuous data into labelled data\n",
    "columns=x.shape[1]\n",
    "for i in range(columns):\n",
    "    x[:,i]=make_labelled(x[:,i])"
   ]
  },
  {
   "cell_type": "code",
   "execution_count": 9,
   "metadata": {},
   "outputs": [],
   "source": [
    "from sklearn.model_selection import train_test_split\n",
    "x_train,x_test,y_train,y_test=train_test_split(x,y,test_size=0.25,random_state=0)"
   ]
  },
  {
   "cell_type": "code",
   "execution_count": 10,
   "metadata": {},
   "outputs": [],
   "source": [
    "result=fit(x_train,y_train)"
   ]
  },
  {
   "cell_type": "code",
   "execution_count": 11,
   "metadata": {},
   "outputs": [],
   "source": [
    "y_pred=predict(result,x_test)"
   ]
  },
  {
   "cell_type": "code",
   "execution_count": 12,
   "metadata": {},
   "outputs": [],
   "source": [
    "from sklearn.metrics import classification_report,confusion_matrix"
   ]
  },
  {
   "cell_type": "code",
   "execution_count": 13,
   "metadata": {},
   "outputs": [
    {
     "name": "stdout",
     "output_type": "stream",
     "text": [
      "              precision    recall  f1-score   support\n",
      "\n",
      "           0       1.00      1.00      1.00        13\n",
      "           1       0.94      1.00      0.97        16\n",
      "           2       1.00      0.89      0.94         9\n",
      "\n",
      "   micro avg       0.97      0.97      0.97        38\n",
      "   macro avg       0.98      0.96      0.97        38\n",
      "weighted avg       0.98      0.97      0.97        38\n",
      "\n",
      "[[13  0  0]\n",
      " [ 0 16  0]\n",
      " [ 0  1  8]]\n"
     ]
    }
   ],
   "source": [
    "print(classification_report(y_test,y_pred))\n",
    "print(confusion_matrix(y_test,y_pred))"
   ]
  },
  {
   "cell_type": "code",
   "execution_count": 18,
   "metadata": {},
   "outputs": [
    {
     "name": "stdout",
     "output_type": "stream",
     "text": [
      "              precision    recall  f1-score   support\n",
      "\n",
      "           0       1.00      1.00      1.00        13\n",
      "           1       1.00      1.00      1.00        16\n",
      "           2       1.00      1.00      1.00         9\n",
      "\n",
      "   micro avg       1.00      1.00      1.00        38\n",
      "   macro avg       1.00      1.00      1.00        38\n",
      "weighted avg       1.00      1.00      1.00        38\n",
      "\n",
      "[[13  0  0]\n",
      " [ 0 16  0]\n",
      " [ 0  0  9]]\n"
     ]
    }
   ],
   "source": [
    "#For Continuous Data we use Gaussion Naive Bayes\n",
    "from sklearn.naive_bayes import GaussianNB\n",
    "clf=GaussianNB()\n",
    "clf.fit(x_train,y_train)\n",
    "y_pred=clf.predict(x_test)\n",
    "print(classification_report(y_test,y_pred))\n",
    "print(confusion_matrix(y_test,y_pred))"
   ]
  }
 ],
 "metadata": {
  "kernelspec": {
   "display_name": "Python 3",
   "language": "python",
   "name": "python3"
  },
  "language_info": {
   "codemirror_mode": {
    "name": "ipython",
    "version": 3
   },
   "file_extension": ".py",
   "mimetype": "text/x-python",
   "name": "python",
   "nbconvert_exporter": "python",
   "pygments_lexer": "ipython3",
   "version": "3.7.1"
  }
 },
 "nbformat": 4,
 "nbformat_minor": 2
}
